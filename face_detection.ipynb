{
 "cells": [
  {
   "cell_type": "code",
   "execution_count": 2,
   "metadata": {
    "collapsed": true,
    "ExecuteTime": {
     "end_time": "2023-05-23T12:37:23.224386300Z",
     "start_time": "2023-05-23T12:37:23.215910200Z"
    }
   },
   "outputs": [],
   "source": [
    "import numpy as np\n",
    "\n",
    "# Coordonnées des points d'intérêt invariants du visage\n",
    "landmarks = {\n",
    "    \"left_eye\": (30, 30),\n",
    "    \"right_eye\": (70, 30),\n",
    "    \"nose\": (50, 50),\n",
    "    \"left_mouth\": (40, 70),\n",
    "    \"right_mouth\": (60, 70)\n",
    "}\n",
    "\n",
    "# Fonction pour détecter un visage à partir des coordonnées des points d'intérêt\n",
    "def detect_face(image):\n",
    "    # Calculer les distances entre les points d'intérêt\n",
    "    distances = []\n",
    "    for point1 in landmarks.values():\n",
    "        for point2 in landmarks.values():\n",
    "            distance = np.linalg.norm(np.array(point1) - np.array(point2))\n",
    "            distances.append(distance)\n",
    "\n",
    "    # Calculer la moyenne des distances\n",
    "    mean_distance = np.mean(distances)\n",
    "\n",
    "    # Définir un seuil pour la détection du visage\n",
    "    threshold = mean_distance * 0.8\n",
    "\n",
    "    # Calculer les distances entre les points d'intérêt de l'image donnée\n",
    "    image_distances = []\n",
    "    for point in landmarks.values():\n",
    "        distance = np.linalg.norm(np.array(point) - np.array(image))\n",
    "        image_distances.append(distance)\n",
    "\n",
    "    # Vérifier si les distances de l'image correspondent à un visage\n",
    "    if np.all(image_distances < threshold):\n",
    "        return True\n",
    "    else:\n",
    "        return False\n",
    "\n",
    "\n"
   ]
  }
 ],
 "metadata": {
  "kernelspec": {
   "display_name": "Python 3",
   "language": "python",
   "name": "python3"
  },
  "language_info": {
   "codemirror_mode": {
    "name": "ipython",
    "version": 2
   },
   "file_extension": ".py",
   "mimetype": "text/x-python",
   "name": "python",
   "nbconvert_exporter": "python",
   "pygments_lexer": "ipython2",
   "version": "2.7.6"
  }
 },
 "nbformat": 4,
 "nbformat_minor": 0
}
